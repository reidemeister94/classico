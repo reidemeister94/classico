{
 "cells": [
  {
   "cell_type": "markdown",
   "id": "5ee1562a-eb74-448c-9562-5f3434370630",
   "metadata": {},
   "source": [
    "## Multi Language Model"
   ]
  },
  {
   "cell_type": "markdown",
   "id": "141fa5a5-c04d-4106-9a44-ebc2cc82c4e9",
   "metadata": {},
   "source": [
    "### Light Pre-processing\n",
    "\n",
    "Since the core of the analysis and pre-processing of the data has already been done in the previous notebooks, here we want only to make a few minor checks and some \"selection\" on the data to use for training.\n",
    "In particular:\n",
    "- Check on duplicated titles and null values\n",
    "- Selection of data based on a threshold per category: we want to keep the data balanced, so it's important to sample the titles with respect to the class with the least data\n"
   ]
  },
  {
   "cell_type": "code",
   "execution_count": 1,
   "id": "96677c61-452c-49c6-9f5e-f5c56d26caea",
   "metadata": {},
   "outputs": [],
   "source": [
    "%load_ext lab_black"
   ]
  },
  {
   "cell_type": "code",
   "execution_count": 2,
   "id": "4b3d9bfa-2c3a-4878-b8e7-54f5e803deed",
   "metadata": {},
   "outputs": [],
   "source": [
    "import pandas as pd\n",
    "from tqdm import tqdm\n",
    "import numpy as np\n",
    "import warnings\n",
    "import os\n",
    "import sys\n",
    "import matplotlib.pyplot as plt\n",
    "import pathlib\n",
    "import pickle\n",
    "\n",
    "from sklearn import preprocessing\n",
    "from sklearn.model_selection import train_test_split\n",
    "\n",
    "pd.options.display.max_columns = 500\n",
    "pd.options.display.max_rows = 1000\n",
    "pd.options.display.max_colwidth = 500\n",
    "tqdm.pandas()\n",
    "warnings.filterwarnings(\"ignore\")"
   ]
  },
  {
   "cell_type": "code",
   "execution_count": 3,
   "id": "aa62f003-2def-41e1-be88-702bbec5dde1",
   "metadata": {},
   "outputs": [],
   "source": [
    "root_path = str(pathlib.Path(os.path.dirname(os.path.realpath(\"__file__\"))).resolve())\n",
    "data_path = os.path.join(root_path, \"data\")"
   ]
  },
  {
   "cell_type": "code",
   "execution_count": 4,
   "id": "d8c4bd52-07fd-44b5-8d3f-c55ffe26bc62",
   "metadata": {},
   "outputs": [],
   "source": [
    "TRAINING_FILE_NAME = \"sample_training.csv\"\n",
    "EVAL_FILE_NAME = \"sample_evaluation.csv\"\n",
    "LANGS = [\"de\", \"pt\", \"en\", \"it\"]"
   ]
  },
  {
   "cell_type": "code",
   "execution_count": 5,
   "id": "a1e6d82d-da37-4a61-b4ad-438308c9e8fd",
   "metadata": {},
   "outputs": [],
   "source": [
    "df = pd.read_csv(os.path.join(data_path, TRAINING_FILE_NAME))"
   ]
  },
  {
   "cell_type": "code",
   "execution_count": 6,
   "id": "3c1dde86-da6f-4462-ab44-31f041e57d13",
   "metadata": {},
   "outputs": [
    {
     "name": "stdout",
     "output_type": "stream",
     "text": [
      "<class 'pandas.core.frame.DataFrame'>\n",
      "RangeIndex: 600 entries, 0 to 599\n",
      "Data columns (total 4 columns):\n",
      " #   Column    Non-Null Count  Dtype \n",
      "---  ------    --------------  ----- \n",
      " 0   id        600 non-null    object\n",
      " 1   title     600 non-null    object\n",
      " 2   category  600 non-null    object\n",
      " 3   language  600 non-null    object\n",
      "dtypes: object(4)\n",
      "memory usage: 18.9+ KB\n"
     ]
    }
   ],
   "source": [
    "df.info()"
   ]
  },
  {
   "cell_type": "code",
   "execution_count": 7,
   "id": "4c3a3897-9447-4c52-9a6e-25b63219b012",
   "metadata": {},
   "outputs": [
    {
     "data": {
      "text/html": [
       "<div>\n",
       "<style scoped>\n",
       "    .dataframe tbody tr th:only-of-type {\n",
       "        vertical-align: middle;\n",
       "    }\n",
       "\n",
       "    .dataframe tbody tr th {\n",
       "        vertical-align: top;\n",
       "    }\n",
       "\n",
       "    .dataframe thead th {\n",
       "        text-align: right;\n",
       "    }\n",
       "</style>\n",
       "<table border=\"1\" class=\"dataframe\">\n",
       "  <thead>\n",
       "    <tr style=\"text-align: right;\">\n",
       "      <th></th>\n",
       "      <th>id</th>\n",
       "      <th>title</th>\n",
       "      <th>category</th>\n",
       "      <th>language</th>\n",
       "    </tr>\n",
       "  </thead>\n",
       "  <tbody>\n",
       "    <tr>\n",
       "      <th>453</th>\n",
       "      <td>de38e5176bfbc22741630ff37b57904f</td>\n",
       "      <td>database administrator con conoscenza di sql</td>\n",
       "      <td>IT</td>\n",
       "      <td>it</td>\n",
       "    </tr>\n",
       "    <tr>\n",
       "      <th>213</th>\n",
       "      <td>1675e59a2ca151e00d44f5af04deb5db</td>\n",
       "      <td>safety risk specialist</td>\n",
       "      <td>Finance</td>\n",
       "      <td>en</td>\n",
       "    </tr>\n",
       "    <tr>\n",
       "      <th>29</th>\n",
       "      <td>b93d66b332835bc5fd6be0e362daf42e</td>\n",
       "      <td>impiegata impiegato studio paghe</td>\n",
       "      <td>Accounting</td>\n",
       "      <td>it</td>\n",
       "    </tr>\n",
       "    <tr>\n",
       "      <th>247</th>\n",
       "      <td>1c347df6d8940eed4095243530d17a9c</td>\n",
       "      <td>teller conroe branch</td>\n",
       "      <td>Finance</td>\n",
       "      <td>en</td>\n",
       "    </tr>\n",
       "    <tr>\n",
       "      <th>316</th>\n",
       "      <td>8d3e9e9132865c7a842a18f021d4b6d3</td>\n",
       "      <td>kickstart hilfskoch koch</td>\n",
       "      <td>Food</td>\n",
       "      <td>de</td>\n",
       "    </tr>\n",
       "  </tbody>\n",
       "</table>\n",
       "</div>"
      ],
      "text/plain": [
       "                                   id  \\\n",
       "453  de38e5176bfbc22741630ff37b57904f   \n",
       "213  1675e59a2ca151e00d44f5af04deb5db   \n",
       "29   b93d66b332835bc5fd6be0e362daf42e   \n",
       "247  1c347df6d8940eed4095243530d17a9c   \n",
       "316  8d3e9e9132865c7a842a18f021d4b6d3   \n",
       "\n",
       "                                            title    category language  \n",
       "453  database administrator con conoscenza di sql          IT       it  \n",
       "213                        safety risk specialist     Finance       en  \n",
       "29               impiegata impiegato studio paghe  Accounting       it  \n",
       "247                          teller conroe branch     Finance       en  \n",
       "316                      kickstart hilfskoch koch        Food       de  "
      ]
     },
     "execution_count": 7,
     "metadata": {},
     "output_type": "execute_result"
    }
   ],
   "source": [
    "df.sample(5)"
   ]
  },
  {
   "cell_type": "code",
   "execution_count": 8,
   "id": "3ab50f8c-a4d5-496a-8386-d62e69e89ab1",
   "metadata": {},
   "outputs": [],
   "source": [
    "df = df.drop(df[df[\"title\"].isna()].index)"
   ]
  },
  {
   "cell_type": "code",
   "execution_count": 9,
   "id": "5ec924a9-5a6b-4bbf-85eb-b9b83470fcbb",
   "metadata": {},
   "outputs": [
    {
     "data": {
      "text/plain": [
       "600"
      ]
     },
     "execution_count": 9,
     "metadata": {},
     "output_type": "execute_result"
    }
   ],
   "source": [
    "len(df)"
   ]
  },
  {
   "cell_type": "markdown",
   "id": "a97f791c-fc4e-4194-b072-940c1a599b59",
   "metadata": {},
   "source": [
    "## Modeling"
   ]
  },
  {
   "cell_type": "markdown",
   "id": "716108cf-63bc-4d76-a880-f05ef582bf15",
   "metadata": {},
   "source": [
    "After a lot of tests and trials and errors, we came up with an encoder to create the embeddings of the titles that has high speed and good accuracy on capturing the context of a sentence/title: [Multilingual Sentence Encoder](https://tfhub.dev/google/universal-sentence-encoder-multilingual/3), downloadable from tensorflow hub.\n",
    "The steps that we followed for creating and training our model are:\n",
    "\n",
    " 1. Splitting data in train/test to evaluate performances and fine-tuning the hyperparameters\n",
    " 2. Create the model architecture, that in this first phase receives as input the titles already encoded to embeddings:\n",
    "\t - The structure is composed by few dense layers with the adding of dropout in order to avoid overfitting\n",
    "\t - Optimizer: *adam*\n",
    "\t - Loss: SparseCategorical Cross Entropy\n",
    "3.  Training\n",
    "4. Evaluation of performances on test data\n",
    "\n",
    "After we got our fine-tuned model, we are ready to create a self-contained version of it, which is capable of receiving a raw title as input, processing and cleaning it and make the final prediction.\n",
    "This is done by creating a new version of the model, starting from the previous one, and by adding:\n",
    "- A new input layer for reading strings\n",
    "- A pre-processing layer for cleaning the title\n",
    "- The encoder layer\n",
    "- The previous model\n",
    "- A layer to format the final output based on our needs\n",
    "\n"
   ]
  },
  {
   "cell_type": "code",
   "execution_count": 10,
   "id": "3fcffc7f-5743-4855-adbb-3c4519c6d0de",
   "metadata": {},
   "outputs": [],
   "source": [
    "import tensorflow as tf\n",
    "import tensorflow_hub as hub\n",
    "import tensorflow_text"
   ]
  },
  {
   "cell_type": "code",
   "execution_count": 11,
   "id": "da29ca23-0963-4415-a40a-8faa556c2329",
   "metadata": {},
   "outputs": [],
   "source": [
    "label_col = \"category\""
   ]
  },
  {
   "cell_type": "code",
   "execution_count": 12,
   "id": "fb3e3965-0440-4506-b286-f7ea0d09bffb",
   "metadata": {},
   "outputs": [],
   "source": [
    "le = preprocessing.LabelEncoder()\n",
    "le.fit(df[label_col].values)\n",
    "df[\"label\"] = le.transform(df[label_col])"
   ]
  },
  {
   "cell_type": "code",
   "execution_count": 13,
   "id": "974bec78-98ea-4733-ac8c-59f895999f6f",
   "metadata": {},
   "outputs": [
    {
     "data": {
      "text/html": [
       "<div>\n",
       "<style scoped>\n",
       "    .dataframe tbody tr th:only-of-type {\n",
       "        vertical-align: middle;\n",
       "    }\n",
       "\n",
       "    .dataframe tbody tr th {\n",
       "        vertical-align: top;\n",
       "    }\n",
       "\n",
       "    .dataframe thead th {\n",
       "        text-align: right;\n",
       "    }\n",
       "</style>\n",
       "<table border=\"1\" class=\"dataframe\">\n",
       "  <thead>\n",
       "    <tr style=\"text-align: right;\">\n",
       "      <th></th>\n",
       "      <th>id</th>\n",
       "      <th>title</th>\n",
       "      <th>category</th>\n",
       "      <th>language</th>\n",
       "      <th>label</th>\n",
       "    </tr>\n",
       "  </thead>\n",
       "  <tbody>\n",
       "    <tr>\n",
       "      <th>41</th>\n",
       "      <td>bbf91ebbb741cbf48f476f7eeb7416ae</td>\n",
       "      <td>tax identification assignment</td>\n",
       "      <td>Accounting</td>\n",
       "      <td>en</td>\n",
       "      <td>0</td>\n",
       "    </tr>\n",
       "    <tr>\n",
       "      <th>8</th>\n",
       "      <td>5e90f1a21bc539885a62102271c5761a</td>\n",
       "      <td>auditor contabile padova</td>\n",
       "      <td>Accounting</td>\n",
       "      <td>it</td>\n",
       "      <td>0</td>\n",
       "    </tr>\n",
       "    <tr>\n",
       "      <th>290</th>\n",
       "      <td>8c8d02a3f6841fe9f66b91a132662e19</td>\n",
       "      <td>consultor de hipoteca pessoal</td>\n",
       "      <td>Finance</td>\n",
       "      <td>pt</td>\n",
       "      <td>2</td>\n",
       "    </tr>\n",
       "    <tr>\n",
       "      <th>196</th>\n",
       "      <td>da3e8de93e39e205895459d955512fed</td>\n",
       "      <td>primary behavioural teaching assistant wirral</td>\n",
       "      <td>Education</td>\n",
       "      <td>en</td>\n",
       "      <td>1</td>\n",
       "    </tr>\n",
       "    <tr>\n",
       "      <th>268</th>\n",
       "      <td>3f0f279bacc48936b46de7e24b4069b4</td>\n",
       "      <td>assicurazioni federali sinistri servizi dallas la dc chicago ny</td>\n",
       "      <td>Finance</td>\n",
       "      <td>it</td>\n",
       "      <td>2</td>\n",
       "    </tr>\n",
       "  </tbody>\n",
       "</table>\n",
       "</div>"
      ],
      "text/plain": [
       "                                   id  \\\n",
       "41   bbf91ebbb741cbf48f476f7eeb7416ae   \n",
       "8    5e90f1a21bc539885a62102271c5761a   \n",
       "290  8c8d02a3f6841fe9f66b91a132662e19   \n",
       "196  da3e8de93e39e205895459d955512fed   \n",
       "268  3f0f279bacc48936b46de7e24b4069b4   \n",
       "\n",
       "                                                               title  \\\n",
       "41                                     tax identification assignment   \n",
       "8                                           auditor contabile padova   \n",
       "290                                    consultor de hipoteca pessoal   \n",
       "196                    primary behavioural teaching assistant wirral   \n",
       "268  assicurazioni federali sinistri servizi dallas la dc chicago ny   \n",
       "\n",
       "       category language  label  \n",
       "41   Accounting       en      0  \n",
       "8    Accounting       it      0  \n",
       "290     Finance       pt      2  \n",
       "196   Education       en      1  \n",
       "268     Finance       it      2  "
      ]
     },
     "execution_count": 13,
     "metadata": {},
     "output_type": "execute_result"
    }
   ],
   "source": [
    "df.sample(5)"
   ]
  },
  {
   "cell_type": "code",
   "execution_count": 14,
   "id": "f2c088ce-95cc-4aa2-89e5-59747293a262",
   "metadata": {},
   "outputs": [],
   "source": [
    "batch_size = 100\n",
    "title_column = \"title\""
   ]
  },
  {
   "cell_type": "code",
   "execution_count": 15,
   "id": "02606ec7-6275-4e9d-9a28-2f31d49fe4d6",
   "metadata": {},
   "outputs": [
    {
     "name": "stdout",
     "output_type": "stream",
     "text": [
      "Metal device set to: Apple M1\n"
     ]
    },
    {
     "name": "stderr",
     "output_type": "stream",
     "text": [
      "2022-04-26 14:44:27.202967: I tensorflow/core/common_runtime/pluggable_device/pluggable_device_factory.cc:305] Could not identify NUMA node of platform GPU ID 0, defaulting to 0. Your kernel may not have been built with NUMA support.\n",
      "2022-04-26 14:44:27.203096: I tensorflow/core/common_runtime/pluggable_device/pluggable_device_factory.cc:271] Created TensorFlow device (/job:localhost/replica:0/task:0/device:GPU:0 with 0 MB memory) -> physical PluggableDevice (device: 0, name: METAL, pci bus id: <undefined>)\n",
      "2022-04-26 14:44:29.304703: W tensorflow/core/platform/profile_utils/cpu_utils.cc:128] Failed to get CPU frequency: 0 Hz\n",
      "2022-04-26 14:44:29.305277: I tensorflow/core/grappler/optimizers/custom_graph_optimizer_registry.cc:113] Plugin optimizer for device_type GPU is enabled.\n"
     ]
    }
   ],
   "source": [
    "model_url = \"https://tfhub.dev/google/universal-sentence-encoder-multilingual/3\"\n",
    "sentence_encoder = hub.load(model_url)"
   ]
  },
  {
   "cell_type": "code",
   "execution_count": 16,
   "id": "e2405a6c-ad75-4a2e-868e-e9ca529fcd16",
   "metadata": {},
   "outputs": [],
   "source": [
    "X_ = df[title_column].values\n",
    "y = df[\"label\"].values"
   ]
  },
  {
   "cell_type": "code",
   "execution_count": 17,
   "id": "4d4d21c9-878a-4b18-87af-cebd493c4481",
   "metadata": {
    "tags": []
   },
   "outputs": [
    {
     "name": "stderr",
     "output_type": "stream",
     "text": [
      "  0%|                                                                                           | 0/6 [00:00<?, ?it/s]2022-04-26 14:44:29.486233: I tensorflow/core/grappler/optimizers/custom_graph_optimizer_registry.cc:113] Plugin optimizer for device_type GPU is enabled.\n",
      "100%|███████████████████████████████████████████████████████████████████████████████████| 6/6 [00:01<00:00,  5.49it/s]"
     ]
    },
    {
     "name": "stdout",
     "output_type": "stream",
     "text": [
      "CPU times: user 1.09 s, sys: 247 ms, total: 1.33 s\n",
      "Wall time: 1.11 s\n"
     ]
    },
    {
     "name": "stderr",
     "output_type": "stream",
     "text": [
      "\n"
     ]
    }
   ],
   "source": [
    "%%time\n",
    "X = None\n",
    "for i in tqdm(range(0, len(X_), batch_size)):\n",
    "    new_encoded = sentence_encoder(X_[i:i+batch_size]).numpy()\n",
    "    if X is None:\n",
    "        X = new_encoded\n",
    "    else:\n",
    "        X = np.vstack((X, new_encoded))"
   ]
  },
  {
   "cell_type": "code",
   "execution_count": 18,
   "id": "2cc84233-9d6b-4952-9c0b-68dc74621ce8",
   "metadata": {},
   "outputs": [],
   "source": [
    "X_train, X_val, y_train, y_val = train_test_split(\n",
    "    X, y, test_size=0.2, stratify=y, random_state=42, shuffle=True\n",
    ")\n",
    "\n",
    "X_train_str, X_val_str, y_train_str, y_val_str = train_test_split(\n",
    "    X_, y, test_size=0.2, stratify=y, random_state=42, shuffle=True\n",
    ")"
   ]
  },
  {
   "cell_type": "code",
   "execution_count": 19,
   "id": "56c67323-a916-4ed2-95f6-ae478724cb3c",
   "metadata": {},
   "outputs": [
    {
     "data": {
      "text/plain": [
       "((480, 512), (120, 512), (480,), (120,))"
      ]
     },
     "execution_count": 19,
     "metadata": {},
     "output_type": "execute_result"
    }
   ],
   "source": [
    "X_train.shape, X_val.shape, y_train.shape, y_val.shape"
   ]
  },
  {
   "cell_type": "code",
   "execution_count": 20,
   "id": "40d9bdd8-c181-428d-a33f-f434d78f4253",
   "metadata": {},
   "outputs": [],
   "source": [
    "class_names = le.classes_\n",
    "labels_size = len(le.classes_)\n",
    "batch_size = 64"
   ]
  },
  {
   "cell_type": "code",
   "execution_count": 21,
   "id": "a503e22b-f35e-4b0d-b44d-de6877c9bed4",
   "metadata": {},
   "outputs": [],
   "source": [
    "def build_model(input_shape, dense_layer_dims, dropout_list, labels_size):\n",
    "    embeddings_input = tf.keras.Input(\n",
    "        shape=input_shape,\n",
    "        dtype=tf.float32,\n",
    "        name=\"input_embeddings\",\n",
    "    )\n",
    "    x = tf.keras.layers.Dense(dense_layer_dims[0], activation=\"relu\", name=\"dense_1\")(\n",
    "        embeddings_input\n",
    "    )\n",
    "    x = tf.keras.layers.Dropout(dropout_list[0], name=\"dropout_1\")(x)\n",
    "    if len(dense_layer_dims) > 1:\n",
    "        for i in range(1, len(dense_layer_dims)):\n",
    "            x = tf.keras.layers.Dense(\n",
    "                dense_layer_dims[i], activation=\"relu\", name=f\"dense_{i+1}\"\n",
    "            )(x)\n",
    "            x = tf.keras.layers.Dropout(dropout_list[i], name=f\"dropout_{i+1}\")(x)\n",
    "    preds = tf.keras.layers.Dense(\n",
    "        labels_size, activation=\"softmax\", name=\"dense_final\"\n",
    "    )(x)\n",
    "    model = tf.keras.Model(embeddings_input, preds, name=\"model\")\n",
    "    return model"
   ]
  },
  {
   "cell_type": "code",
   "execution_count": 22,
   "id": "c7b38f05-9305-4c3a-9fc6-0b435c718a8f",
   "metadata": {},
   "outputs": [],
   "source": [
    "dense_layer_dims = [256, 128, 64]\n",
    "dropout_list = [0.1, 0.1, 0.1]"
   ]
  },
  {
   "cell_type": "code",
   "execution_count": 23,
   "id": "726d7609-8bee-47eb-8e92-4b59781e3ae5",
   "metadata": {},
   "outputs": [],
   "source": [
    "model = build_model(\n",
    "    input_shape=(X_train.shape[1],),\n",
    "    dense_layer_dims=dense_layer_dims,\n",
    "    dropout_list=dropout_list,\n",
    "    labels_size=labels_size,\n",
    ")"
   ]
  },
  {
   "cell_type": "code",
   "execution_count": 24,
   "id": "5da3f6e4-dbfb-4670-8141-b565604717a9",
   "metadata": {},
   "outputs": [],
   "source": [
    "model.compile(\n",
    "    optimizer=\"adam\",\n",
    "    loss=tf.keras.losses.SparseCategoricalCrossentropy(),\n",
    "    metrics=[tf.keras.metrics.SparseCategoricalAccuracy()],\n",
    ")"
   ]
  },
  {
   "cell_type": "code",
   "execution_count": 25,
   "id": "cbe0bcff-735d-4174-a98d-4fc0ff0b7b47",
   "metadata": {},
   "outputs": [],
   "source": [
    "epochs = 5"
   ]
  },
  {
   "cell_type": "code",
   "execution_count": 26,
   "id": "3ac17dac-5841-47bc-9ca8-a2275c9ee35f",
   "metadata": {},
   "outputs": [
    {
     "name": "stdout",
     "output_type": "stream",
     "text": [
      "Epoch 1/5\n",
      "1/8 [==>...........................] - ETA: 2s - loss: 1.7934 - sparse_categorical_accuracy: 0.2188"
     ]
    },
    {
     "name": "stderr",
     "output_type": "stream",
     "text": [
      "2022-04-26 14:44:30.718550: I tensorflow/core/grappler/optimizers/custom_graph_optimizer_registry.cc:113] Plugin optimizer for device_type GPU is enabled.\n"
     ]
    },
    {
     "name": "stdout",
     "output_type": "stream",
     "text": [
      "8/8 [==============================] - 1s 28ms/step - loss: 1.7629 - sparse_categorical_accuracy: 0.3583 - val_loss: 1.7006 - val_sparse_categorical_accuracy: 0.5583\n",
      "Epoch 2/5\n",
      "8/8 [==============================] - 0s 9ms/step - loss: 1.6059 - sparse_categorical_accuracy: 0.6458 - val_loss: 1.4752 - val_sparse_categorical_accuracy: 0.6750\n",
      "Epoch 3/5\n",
      "8/8 [==============================] - 0s 8ms/step - loss: 1.2971 - sparse_categorical_accuracy: 0.7667 - val_loss: 1.0808 - val_sparse_categorical_accuracy: 0.7167\n",
      "Epoch 4/5\n",
      "1/8 [==>...........................] - ETA: 0s - loss: 0.9611 - sparse_categorical_accuracy: 0.8594"
     ]
    },
    {
     "name": "stderr",
     "output_type": "stream",
     "text": [
      "2022-04-26 14:44:31.008539: I tensorflow/core/grappler/optimizers/custom_graph_optimizer_registry.cc:113] Plugin optimizer for device_type GPU is enabled.\n"
     ]
    },
    {
     "name": "stdout",
     "output_type": "stream",
     "text": [
      "8/8 [==============================] - 0s 8ms/step - loss: 0.8766 - sparse_categorical_accuracy: 0.8188 - val_loss: 0.6848 - val_sparse_categorical_accuracy: 0.7917\n",
      "Epoch 5/5\n",
      "8/8 [==============================] - 0s 8ms/step - loss: 0.5520 - sparse_categorical_accuracy: 0.8229 - val_loss: 0.4981 - val_sparse_categorical_accuracy: 0.8000\n"
     ]
    }
   ],
   "source": [
    "history = model.fit(\n",
    "    X_train,\n",
    "    y_train,\n",
    "    epochs=epochs,\n",
    "    validation_data=(X_val, y_val),\n",
    "    callbacks=[\n",
    "        tf.keras.callbacks.EarlyStopping(\n",
    "            monitor=\"val_loss\", mode=\"auto\", patience=3, verbose=1\n",
    "        ),\n",
    "    ],\n",
    "    batch_size=batch_size,\n",
    "    verbose=1,\n",
    ")"
   ]
  },
  {
   "cell_type": "code",
   "execution_count": 27,
   "id": "6c51f917-96c2-43ad-b6b1-925abd0cea6c",
   "metadata": {},
   "outputs": [
    {
     "data": {
      "image/png": "[encoded data removed]",
      "text/plain": [
       "<Figure size 1080x720 with 2 Axes>"
      ]
     },
     "metadata": {
      "needs_background": "light"
     },
     "output_type": "display_data"
    }
   ],
   "source": [
    "fig = plt.figure(figsize=(15, 10))\n",
    "\n",
    "epochs = np.arange(1, len(history.history[\"loss\"]) + 1, 1)\n",
    "\n",
    "plt.subplot(2, 1, 1)\n",
    "plt.plot(epochs, history.history[\"loss\"], label=\"train\")\n",
    "plt.plot(epochs, history.history[\"val_loss\"], label=\"val\")\n",
    "plt.title(\"loss\")\n",
    "plt.xlabel(\"epochs\")\n",
    "plt.ylabel(\"\")\n",
    "plt.legend()\n",
    "\n",
    "plt.subplot(2, 1, 2)\n",
    "plt.plot(epochs, history.history[\"sparse_categorical_accuracy\"], label=\"train\")\n",
    "plt.plot(epochs, history.history[\"val_sparse_categorical_accuracy\"], label=\"val\")\n",
    "plt.title(\"accuracy\")\n",
    "plt.xlabel(\"epochs\")\n",
    "plt.ylabel(\"\")\n",
    "plt.legend(loc=\"upper left\")\n",
    "\n",
    "fig.subplots_adjust(hspace=0.5)\n",
    "# fig.savefig(\"data/pipeline/neural_network/training_history.png\", dpi=300)\n",
    "plt.show()"
   ]
  },
  {
   "cell_type": "code",
   "execution_count": 28,
   "id": "bf36e9a1-2494-40b8-94cf-aefbf7140b22",
   "metadata": {},
   "outputs": [],
   "source": [
    "n = 100  # for 2 random indices\n",
    "index_evaluation = np.random.choice(X_val.shape[0], n, replace=False)"
   ]
  },
  {
   "cell_type": "code",
   "execution_count": 29,
   "id": "09c22bc8-e53d-4ad0-ac14-2a1327383041",
   "metadata": {},
   "outputs": [
    {
     "name": "stdout",
     "output_type": "stream",
     "text": [
      "4/4 - 0s - loss: 0.5130 - sparse_categorical_accuracy: 0.8000 - 56ms/epoch - 14ms/step\n",
      "End to end model on evaluation dataset, accuracy: 80.00%\n"
     ]
    }
   ],
   "source": [
    "# Evaluate the model\n",
    "loss, acc = model.evaluate(X_val[index_evaluation], y_val[index_evaluation], verbose=2)\n",
    "print(\"End to end model on evaluation dataset, accuracy: {:5.2f}%\".format(100 * acc))"
   ]
  },
  {
   "cell_type": "code",
   "execution_count": 30,
   "id": "19ba3ba2-c11d-4263-ac7f-533027fc30e4",
   "metadata": {},
   "outputs": [],
   "source": [
    "sentence_test = sentence_encoder([\"expert chef\"])"
   ]
  },
  {
   "cell_type": "code",
   "execution_count": 31,
   "id": "3c96dcef-ca10-44b7-b997-1ec5809f8517",
   "metadata": {},
   "outputs": [
    {
     "name": "stderr",
     "output_type": "stream",
     "text": [
      "2022-04-26 14:44:31.704245: I tensorflow/core/grappler/optimizers/custom_graph_optimizer_registry.cc:113] Plugin optimizer for device_type GPU is enabled.\n"
     ]
    },
    {
     "data": {
      "text/plain": [
       "('Food', 0.94068605)"
      ]
     },
     "execution_count": 31,
     "metadata": {},
     "output_type": "execute_result"
    }
   ],
   "source": [
    "probabilities = model.predict(sentence_test)\n",
    "class_names[np.argmax(probabilities[0])], np.amax(probabilities)"
   ]
  },
  {
   "cell_type": "markdown",
   "id": "98e6687a-d24a-4989-b9bc-96bd6ca963d2",
   "metadata": {},
   "source": [
    "## End-to-end model"
   ]
  },
  {
   "cell_type": "code",
   "execution_count": 32,
   "id": "aed50641-547d-4d0b-a478-885715f8d1db",
   "metadata": {},
   "outputs": [],
   "source": [
    "with open(os.path.join(data_path, \"custom_stopwords.txt\")) as f:\n",
    "    custom_stopwords = [line.rstrip() for line in f.readlines()]\n",
    "\n",
    "with open(os.path.join(data_path, \"to_replace.txt\")) as f:\n",
    "    patterns_to_remove = [line.rstrip() for line in f.readlines()]"
   ]
  },
  {
   "cell_type": "code",
   "execution_count": 33,
   "id": "802450a6-dff2-4d48-95e1-e4bd20dbe389",
   "metadata": {},
   "outputs": [],
   "source": [
    "@tf.keras.utils.register_keras_serializable()\n",
    "def custom_standardization(input_data):\n",
    "    cleaned = tf.strings.lower(input_data)\n",
    "    cleaned = tf.strings.regex_replace(cleaned, r\"\\xa0\", \" \", replace_global=True)\n",
    "    cleaned = tf.strings.regex_replace(cleaned, r\"\\&amp\", \" \", replace_global=True)\n",
    "    cleaned = tf.strings.regex_replace(cleaned, r\"<.*?>\", \" \", replace_global=True)\n",
    "    cleaned = tf.strings.regex_replace(cleaned, r\"\\(.+?\\)\", \" \", replace_global=True)\n",
    "    cleaned = tf.strings.regex_replace(\n",
    "        cleaned,\n",
    "        r\"\\b(\" + r\"|\".join(patterns_to_remove) + r\")\\b\\s*\",\n",
    "        \" \",\n",
    "        replace_global=True,\n",
    "    )\n",
    "    cleaned = tf.strings.regex_replace(\n",
    "        cleaned,\n",
    "        r\"\\b(\" + r\"|\".join(custom_stopwords) + r\")\\b\\s*\",\n",
    "        \" \",\n",
    "        replace_global=True,\n",
    "    )\n",
    "    cleaned = tf.strings.regex_replace(\n",
    "        cleaned, r\"[!\\\"#$%&\\'()*+,-.–\\/:;<=>?@[\\\\\\]\\^_`{|}~]\", \" \", replace_global=True\n",
    "    )\n",
    "    cleaned = tf.strings.regex_replace(cleaned, r\"\\b\\d+\\b\", \" \", replace_global=True)\n",
    "    cleaned = tf.strings.regex_replace(cleaned, r\"\\s+\", \" \", replace_global=True)\n",
    "    return tf.strings.strip(cleaned)"
   ]
  },
  {
   "cell_type": "code",
   "execution_count": 34,
   "id": "10d051a8-3d32-42b7-80db-24ae555bae92",
   "metadata": {},
   "outputs": [
    {
     "data": {
      "text/plain": [
       "'expansion associate'"
      ]
     },
     "execution_count": 34,
     "metadata": {},
     "output_type": "execute_result"
    }
   ],
   "source": [
    "custom_standardization([\"Expansion Associate - Intern / Part time\"]).numpy()[0].decode(\n",
    "    \"utf-8\"\n",
    ")"
   ]
  },
  {
   "cell_type": "code",
   "execution_count": 35,
   "id": "5f3249ed-f9f7-43ba-9c4a-090d76716da9",
   "metadata": {},
   "outputs": [],
   "source": [
    "class LabelEncoderLayer(tf.keras.layers.Layer):\n",
    "    def __init__(self, labels, topn=32, **kwargs):\n",
    "        self.labels = labels\n",
    "        self.topn = topn\n",
    "        super(LabelEncoderLayer, self).__init__(**kwargs)\n",
    "\n",
    "    def call(self, x):\n",
    "        batch_size = tf.shape(x)[0]\n",
    "\n",
    "        tf_labels = tf.constant([self.labels], dtype=\"string\")\n",
    "        tf_labels = tf.tile(tf_labels, [batch_size, 1])\n",
    "\n",
    "        top_k = tf.nn.top_k(x, k=self.topn, sorted=True, name=\"top_k\").indices\n",
    "\n",
    "        top_conf = tf.gather(x, top_k, batch_dims=1, name=\"scores\")\n",
    "        top_labels = tf.gather(tf_labels, top_k, batch_dims=1, name=\"labels\")\n",
    "        return [top_conf, top_labels]\n",
    "\n",
    "    def compute_output_shape(self, input_shape):\n",
    "        batch_size = input_shape[0]\n",
    "        top_shape = (batch_size, self.topn)\n",
    "        return [top_shape, top_shape]\n",
    "\n",
    "    def get_config(self):\n",
    "        config = {\"labels\": self.labels, \"topn\": self.topn}\n",
    "        base_config = super(LabelEncoderLayer, self).get_config()\n",
    "        return dict(list(base_config.items()) + list(config.items()))"
   ]
  },
  {
   "cell_type": "code",
   "execution_count": 36,
   "id": "221514ab-2198-4682-a3f8-2b121e8c4561",
   "metadata": {},
   "outputs": [
    {
     "name": "stderr",
     "output_type": "stream",
     "text": [
      "2022-04-26 14:44:34.551719: I tensorflow/core/grappler/optimizers/custom_graph_optimizer_registry.cc:113] Plugin optimizer for device_type GPU is enabled.\n"
     ]
    }
   ],
   "source": [
    "sentence_encoder_layer = hub.KerasLayer(\n",
    "    model_url,\n",
    "    trainable=False,\n",
    ")"
   ]
  },
  {
   "cell_type": "code",
   "execution_count": 37,
   "id": "8033e4f4-e6b8-4c8e-a341-80612e82df3f",
   "metadata": {},
   "outputs": [],
   "source": [
    "string_input = tf.keras.Input(shape=(), dtype=\"string\")\n",
    "cleaned_titles = tf.keras.layers.Lambda(lambda title: custom_standardization(title))(\n",
    "    string_input\n",
    ")\n",
    "encoded_titles = sentence_encoder_layer(cleaned_titles)\n",
    "preds = model(encoded_titles)\n",
    "final_labels = LabelEncoderLayer(labels=list(le.classes_), topn=len(le.classes_))(preds)\n",
    "end_to_end_model = tf.keras.Model(string_input, final_labels)"
   ]
  },
  {
   "cell_type": "code",
   "execution_count": 38,
   "id": "0ac0f012-8abb-410b-8155-32b746da93cb",
   "metadata": {},
   "outputs": [],
   "source": [
    "end_to_end_model.compile(\n",
    "    optimizer=\"adam\",\n",
    "    loss=tf.keras.losses.SparseCategoricalCrossentropy(),\n",
    "    metrics=[tf.keras.metrics.SparseCategoricalAccuracy()],\n",
    ")"
   ]
  },
  {
   "cell_type": "code",
   "execution_count": 39,
   "id": "8eca04b8-ca9a-472d-8d00-35566c4b6b1a",
   "metadata": {},
   "outputs": [],
   "source": [
    "test_titles = [\"software engineer\", \"data scientist\", \"chef\"]"
   ]
  },
  {
   "cell_type": "code",
   "execution_count": 40,
   "id": "92fcea6a-2ee2-4391-9bce-6523128f9d5c",
   "metadata": {},
   "outputs": [
    {
     "name": "stderr",
     "output_type": "stream",
     "text": [
      "2022-04-26 14:44:35.011875: I tensorflow/core/grappler/optimizers/custom_graph_optimizer_registry.cc:113] Plugin optimizer for device_type GPU is enabled.\n"
     ]
    },
    {
     "name": "stdout",
     "output_type": "stream",
     "text": [
      "software engineer 0.98618627 IT\n",
      "data scientist 0.6995984 IT\n",
      "chef 0.9883697 Food\n"
     ]
    }
   ],
   "source": [
    "preds = end_to_end_model(tf.constant(test_titles, dtype=tf.string))\n",
    "probs = preds[0]\n",
    "labels = preds[1]\n",
    "for test_title, prob, label in zip(test_titles, probs, labels):\n",
    "    print(test_title, prob.numpy()[0], label.numpy()[0].decode(\"utf-8\"))"
   ]
  },
  {
   "cell_type": "code",
   "execution_count": 41,
   "id": "3673a086-5a6c-409c-86d8-5cdb8db3c5e3",
   "metadata": {},
   "outputs": [
    {
     "name": "stderr",
     "output_type": "stream",
     "text": [
      "2022-04-26 14:44:35.708012: I tensorflow/core/grappler/optimizers/custom_graph_optimizer_registry.cc:113] Plugin optimizer for device_type GPU is enabled.\n"
     ]
    },
    {
     "name": "stdout",
     "output_type": "stream",
     "text": [
      "CPU times: user 566 ms, sys: 70 ms, total: 636 ms\n",
      "Wall time: 598 ms\n"
     ]
    },
    {
     "data": {
      "text/plain": [
       "[array([[0.42906788, 0.19109307, 0.1489015 , 0.09924813, 0.06896805,\n",
       "         0.06272139]], dtype=float32),\n",
       " array([[b'Education', b'Food', b'Medical', b'IT', b'Finance',\n",
       "         b'Accounting']], dtype=object)]"
      ]
     },
     "execution_count": 41,
     "metadata": {},
     "output_type": "execute_result"
    }
   ],
   "source": [
    "%%time\n",
    "end_to_end_model.predict([\"useless TiTLE 47r38hfnfe8f3h!!°§*ééé\"])"
   ]
  },
  {
   "cell_type": "markdown",
   "id": "9b1d8439-8510-4d8e-84fa-404185e08726",
   "metadata": {},
   "source": [
    "### Save the model\n",
    "\n",
    "Now that we have the final model, we can save it on disk and reload it when we need to perform further analysis or make predictions.\n"
   ]
  },
  {
   "cell_type": "code",
   "execution_count": 42,
   "id": "7ab82e5a-2fbb-460f-a8e5-be3f5928997a",
   "metadata": {},
   "outputs": [],
   "source": [
    "model_file_name = \"sample_model\""
   ]
  },
  {
   "cell_type": "code",
   "execution_count": 43,
   "id": "d38e79fc-7d73-4d33-aadb-118dc1d7a238",
   "metadata": {},
   "outputs": [
    {
     "name": "stderr",
     "output_type": "stream",
     "text": [
      "2022-04-26 14:44:37.848590: W tensorflow/python/util/util.cc:368] Sets are not currently considered sequences, but this may change in the future, so consider avoiding using them.\n",
      "2022-04-26 14:44:43.010323: I tensorflow/core/grappler/optimizers/custom_graph_optimizer_registry.cc:113] Plugin optimizer for device_type GPU is enabled.\n"
     ]
    },
    {
     "name": "stdout",
     "output_type": "stream",
     "text": [
      "INFO:tensorflow:Assets written to: /Users/silvio/Documents/nlp-job-categorizer/data/sample_model/assets\n"
     ]
    },
    {
     "name": "stderr",
     "output_type": "stream",
     "text": [
      "INFO:tensorflow:Assets written to: /Users/silvio/Documents/nlp-job-categorizer/data/sample_model/assets\n"
     ]
    }
   ],
   "source": [
    "tf.saved_model.save(\n",
    "    end_to_end_model,\n",
    "    os.path.join(data_path, model_file_name),\n",
    ")"
   ]
  },
  {
   "cell_type": "markdown",
   "id": "9c7e6480-aca4-45a6-9fa8-ad90e3030700",
   "metadata": {},
   "source": [
    "## Example for loading model from disk"
   ]
  },
  {
   "cell_type": "code",
   "execution_count": 44,
   "id": "b4ad1619-1b7d-4d30-9901-28df940a237f",
   "metadata": {},
   "outputs": [
    {
     "name": "stderr",
     "output_type": "stream",
     "text": [
      "2022-04-26 14:44:52.986631: I tensorflow/core/grappler/optimizers/custom_graph_optimizer_registry.cc:113] Plugin optimizer for device_type GPU is enabled.\n"
     ]
    }
   ],
   "source": [
    "# Recreate the exact same model, including its weights and the optimizer\n",
    "end_to_end_model = tf.saved_model.load(os.path.join(data_path, model_file_name))"
   ]
  },
  {
   "cell_type": "code",
   "execution_count": 45,
   "id": "0ba467cc-08e9-46c6-888d-98ed8d6afceb",
   "metadata": {},
   "outputs": [],
   "source": [
    "test_titles = [\"software engineer\", \"data scientist\", \"chef\"]"
   ]
  },
  {
   "cell_type": "code",
   "execution_count": 46,
   "id": "8eb983fa-5267-47f8-884f-d9e7a981cbb2",
   "metadata": {},
   "outputs": [
    {
     "name": "stderr",
     "output_type": "stream",
     "text": [
      "2022-04-26 14:44:53.190371: I tensorflow/core/grappler/optimizers/custom_graph_optimizer_registry.cc:113] Plugin optimizer for device_type GPU is enabled.\n"
     ]
    },
    {
     "name": "stdout",
     "output_type": "stream",
     "text": [
      "software engineer 0.98618627 IT\n",
      "data scientist 0.6995984 IT\n",
      "chef 0.9883697 Food\n"
     ]
    }
   ],
   "source": [
    "preds = end_to_end_model(tf.constant(test_titles, dtype=tf.string))\n",
    "probs = preds[0]\n",
    "labels = preds[1]\n",
    "for test_title, prob, label in zip(test_titles, probs, labels):\n",
    "    print(test_title, prob.numpy()[0], label.numpy()[0].decode(\"utf-8\"))"
   ]
  },
  {
   "cell_type": "markdown",
   "id": "d57992c6-4613-44bb-80e0-d02960a72709",
   "metadata": {},
   "source": [
    "## Evaluation\n",
    "\n",
    "In order to understand if the model is good, the best way is to test its performances on datasets that it has never seen. For this reason, we have created different datasets, each for a specific language, where there are mixed titles in terms of data cleanliness and category.\n",
    "\n",
    "We have a model trained and capable of predicting titles for these languages: Arabic, Chinese-simplified, Chinese-traditional, English, French, German, Italian, Japanese, Korean, Dutch, Polish, Portuguese, Spanish, Thai, Turkish and Russian.\n",
    "\n",
    "The accuracy tested on external evaluation data are: \n",
    "\n",
    " - Italian - 705 titles: 84,146% \n",
    " - English - 1954 titles: 89,94% \n",
    " - German - 1693 titles: 84,803% \n",
    " - Portuguese - 688 titles: 82,651% \n",
    " - Polish - 688 titles: 78,191%\n",
    " - French - 1936 titles: 82,872%\n",
    " - Dutch - 1923 titles: 80,413%\n",
    " \n",
    " At `data/sample_evaluation.csv` you can find a sample of our multi-language evaluation dataset to test the model by yourself"
   ]
  },
  {
   "cell_type": "markdown",
   "id": "c0673fe5-d3ab-4290-8582-899575eb08a5",
   "metadata": {},
   "source": [
    "#### Evaluating datasets with top-n accuracy"
   ]
  },
  {
   "cell_type": "code",
   "execution_count": 47,
   "id": "37ee4864-7238-4f32-8acd-a7503227c77d",
   "metadata": {},
   "outputs": [],
   "source": [
    "def top_n_accuracy(titles, categories, n=3):\n",
    "    acc = 0\n",
    "    preds = end_to_end_model(titles)\n",
    "    labels = list(preds[1][:, :n].numpy())\n",
    "    for i in range(len(labels)):\n",
    "        labels[i] = [elem.decode(\"utf-8\") for elem in labels[i]]\n",
    "    for title, category, top_labels in zip(titles, categories, labels):\n",
    "        if category in top_labels:\n",
    "            acc += 1\n",
    "    return int(round(acc / len(titles), 2) * 100)"
   ]
  },
  {
   "cell_type": "code",
   "execution_count": 48,
   "id": "f8d0a6da-bd92-4dbd-be89-3db198d6135e",
   "metadata": {},
   "outputs": [],
   "source": [
    "langs = LANGS"
   ]
  },
  {
   "cell_type": "code",
   "execution_count": 49,
   "id": "9fa74b9d-a656-4fd2-b33c-54ab2031cda3",
   "metadata": {},
   "outputs": [],
   "source": [
    "eval_map = {lang: {} for lang in langs}"
   ]
  },
  {
   "cell_type": "code",
   "execution_count": 50,
   "id": "9223a98b-cc53-4269-ae43-2d952168e89b",
   "metadata": {},
   "outputs": [
    {
     "name": "stderr",
     "output_type": "stream",
     "text": [
      "2022-04-26 14:44:53.896374: I tensorflow/core/grappler/optimizers/custom_graph_optimizer_registry.cc:113] Plugin optimizer for device_type GPU is enabled.\n"
     ]
    },
    {
     "name": "stdout",
     "output_type": "stream",
     "text": [
      "de 1 100\n"
     ]
    },
    {
     "name": "stderr",
     "output_type": "stream",
     "text": [
      "2022-04-26 14:44:54.550780: I tensorflow/core/grappler/optimizers/custom_graph_optimizer_registry.cc:113] Plugin optimizer for device_type GPU is enabled.\n"
     ]
    },
    {
     "name": "stdout",
     "output_type": "stream",
     "text": [
      "pt 1 70\n"
     ]
    },
    {
     "name": "stderr",
     "output_type": "stream",
     "text": [
      "2022-04-26 14:44:55.232428: I tensorflow/core/grappler/optimizers/custom_graph_optimizer_registry.cc:113] Plugin optimizer for device_type GPU is enabled.\n"
     ]
    },
    {
     "name": "stdout",
     "output_type": "stream",
     "text": [
      "en 1 100\n",
      "it 1 90\n",
      "de 3 100\n",
      "pt 3 100\n",
      "en 3 100\n",
      "it 3 100\n",
      "de 5 100\n",
      "pt 5 100\n",
      "en 5 100\n",
      "it 5 100\n"
     ]
    }
   ],
   "source": [
    "eval_df = pd.read_csv(os.path.join(data_path, EVAL_FILE_NAME))\n",
    "for n in [1, 3, 5]:\n",
    "    for lang in langs:\n",
    "        temp_eval_df = eval_df[eval_df[\"language\"] == lang].copy()\n",
    "        eval_map[lang][f\"accuracy@{n}\"] = top_n_accuracy(\n",
    "            temp_eval_df[\"title\"].values, temp_eval_df[\"category\"].values, n=n\n",
    "        )\n",
    "        print(lang, n, eval_map[lang][f\"accuracy@{n}\"])"
   ]
  },
  {
   "cell_type": "code",
   "execution_count": 51,
   "id": "2248e71a-83f7-4794-9dc2-a4a9467f9f15",
   "metadata": {},
   "outputs": [],
   "source": [
    "complete_acc_df = pd.DataFrame(eval_map).T"
   ]
  },
  {
   "cell_type": "code",
   "execution_count": 52,
   "id": "c5d70ea7-e24d-42c6-a581-b49e23a1f94b",
   "metadata": {},
   "outputs": [],
   "source": [
    "complete_acc_df[\"lang\"] = complete_acc_df.index"
   ]
  },
  {
   "cell_type": "code",
   "execution_count": 53,
   "id": "7db60f55-aafa-4993-b35d-cb7a7603b7ac",
   "metadata": {},
   "outputs": [
    {
     "data": {
      "text/html": [
       "<div>\n",
       "<style scoped>\n",
       "    .dataframe tbody tr th:only-of-type {\n",
       "        vertical-align: middle;\n",
       "    }\n",
       "\n",
       "    .dataframe tbody tr th {\n",
       "        vertical-align: top;\n",
       "    }\n",
       "\n",
       "    .dataframe thead th {\n",
       "        text-align: right;\n",
       "    }\n",
       "</style>\n",
       "<table border=\"1\" class=\"dataframe\">\n",
       "  <thead>\n",
       "    <tr style=\"text-align: right;\">\n",
       "      <th></th>\n",
       "      <th>accuracy@1</th>\n",
       "      <th>accuracy@3</th>\n",
       "      <th>accuracy@5</th>\n",
       "      <th>lang</th>\n",
       "    </tr>\n",
       "  </thead>\n",
       "  <tbody>\n",
       "    <tr>\n",
       "      <th>de</th>\n",
       "      <td>100</td>\n",
       "      <td>100</td>\n",
       "      <td>100</td>\n",
       "      <td>de</td>\n",
       "    </tr>\n",
       "    <tr>\n",
       "      <th>pt</th>\n",
       "      <td>70</td>\n",
       "      <td>100</td>\n",
       "      <td>100</td>\n",
       "      <td>pt</td>\n",
       "    </tr>\n",
       "    <tr>\n",
       "      <th>en</th>\n",
       "      <td>100</td>\n",
       "      <td>100</td>\n",
       "      <td>100</td>\n",
       "      <td>en</td>\n",
       "    </tr>\n",
       "    <tr>\n",
       "      <th>it</th>\n",
       "      <td>90</td>\n",
       "      <td>100</td>\n",
       "      <td>100</td>\n",
       "      <td>it</td>\n",
       "    </tr>\n",
       "  </tbody>\n",
       "</table>\n",
       "</div>"
      ],
      "text/plain": [
       "    accuracy@1  accuracy@3  accuracy@5 lang\n",
       "de         100         100         100   de\n",
       "pt          70         100         100   pt\n",
       "en         100         100         100   en\n",
       "it          90         100         100   it"
      ]
     },
     "execution_count": 53,
     "metadata": {},
     "output_type": "execute_result"
    }
   ],
   "source": [
    "complete_acc_df"
   ]
  },
  {
   "cell_type": "code",
   "execution_count": 54,
   "id": "d3bcbe3c-6cc9-4b52-9307-b48cf2741242",
   "metadata": {},
   "outputs": [],
   "source": [
    "complete_acc_df.to_csv(os.path.join(data_path, \"sample_eval_map_top_n_accuracy.csv\"))"
   ]
  }
 ],
 "metadata": {
  "environment": {
   "kernel": "conda-root-py",
   "name": "tf2-gpu.2-7.m87",
   "type": "gcloud",
   "uri": "gcr.io/deeplearning-platform-release/tf2-gpu.2-7:m87"
  },
  "kernelspec": {
   "display_name": "ml",
   "language": "python",
   "name": "ml"
  },
  "language_info": {
   "codemirror_mode": {
    "name": "ipython",
    "version": 3
   },
   "file_extension": ".py",
   "mimetype": "text/x-python",
   "name": "python",
   "nbconvert_exporter": "python",
   "pygments_lexer": "ipython3",
   "version": "3.9.12"
  }
 },
 "nbformat": 4,
 "nbformat_minor": 5
}
