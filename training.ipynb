{
 "cells": [
  {
   "cell_type": "markdown",
   "id": "5ee1562a-eb74-448c-9562-5f3434370630",
   "metadata": {},
   "source": [
    "## Classico - Job categorization with conv net embeddings + classification layers\n",
    "\n",
    "In this notebook there is a complete workflow for training and evaluating our multi language model for job categorization. \n",
    "The main phases of the work are:\n",
    "- Imports and loading training dataset\n",
    "- Building the model and training it\n",
    "- Evaluation"
   ]
  },
  {
   "cell_type": "markdown",
   "id": "8b38bf4b-6cd2-42f4-a690-78ac1b4ea2ec",
   "metadata": {},
   "source": [
    "### Imports"
   ]
  },
  {
   "cell_type": "code",
   "execution_count": 1,
   "id": "96677c61-452c-49c6-9f5e-f5c56d26caea",
   "metadata": {},
   "outputs": [],
   "source": [
    "%load_ext lab_black"
   ]
  },
  {
   "cell_type": "code",
   "execution_count": 2,
   "id": "4b3d9bfa-2c3a-4878-b8e7-54f5e803deed",
   "metadata": {},
   "outputs": [],
   "source": [
    "import pandas as pd\n",
    "from tqdm import tqdm\n",
    "import numpy as np\n",
    "import warnings\n",
    "import os\n",
    "import sys\n",
    "import matplotlib.pyplot as plt\n",
    "import pathlib\n",
    "import pickle\n",
    "\n",
    "from sklearn import preprocessing\n",
    "from sklearn.model_selection import train_test_split\n",
    "\n",
    "pd.options.display.max_columns = 500\n",
    "pd.options.display.max_rows = 1000\n",
    "pd.options.display.max_colwidth = 500\n",
    "tqdm.pandas()\n",
    "warnings.filterwarnings(\"ignore\")"
   ]
  },
  {
   "cell_type": "code",
   "execution_count": 3,
   "id": "aa62f003-2def-41e1-be88-702bbec5dde1",
   "metadata": {},
   "outputs": [],
   "source": [
    "root_path = str(pathlib.Path(os.path.dirname(os.path.realpath(\"__file__\"))).resolve())\n",
    "data_path = os.path.join(root_path, \"data\")"
   ]
  },
  {
   "cell_type": "code",
   "execution_count": 4,
   "id": "d8c4bd52-07fd-44b5-8d3f-c55ffe26bc62",
   "metadata": {},
   "outputs": [],
   "source": [
    "TRAINING_FILE_NAME = \"sample_training.csv\"\n",
    "EVAL_FILE_NAME = \"sample_evaluation.csv\"\n",
    "LANGS = [\"de\", \"pt\", \"en\", \"it\"]"
   ]
  },
  {
   "cell_type": "markdown",
   "id": "7f220fa7-9e05-42f2-b05c-8464da99dce2",
   "metadata": {},
   "source": [
    "### Loading training dataset"
   ]
  },
  {
   "cell_type": "code",
   "execution_count": 5,
   "id": "a1e6d82d-da37-4a61-b4ad-438308c9e8fd",
   "metadata": {},
   "outputs": [],
   "source": [
    "df = pd.read_csv(os.path.join(data_path, TRAINING_FILE_NAME))"
   ]
  },
  {
   "cell_type": "code",
   "execution_count": 6,
   "id": "3c1dde86-da6f-4462-ab44-31f041e57d13",
   "metadata": {},
   "outputs": [
    {
     "name": "stdout",
     "output_type": "stream",
     "text": [
      "<class 'pandas.core.frame.DataFrame'>\n",
      "RangeIndex: 6000 entries, 0 to 5999\n",
      "Data columns (total 3 columns):\n",
      " #   Column    Non-Null Count  Dtype \n",
      "---  ------    --------------  ----- \n",
      " 0   title     6000 non-null   object\n",
      " 1   category  6000 non-null   object\n",
      " 2   language  6000 non-null   object\n",
      "dtypes: object(3)\n",
      "memory usage: 140.8+ KB\n"
     ]
    }
   ],
   "source": [
    "df.info()"
   ]
  },
  {
   "cell_type": "code",
   "execution_count": 7,
   "id": "4c3a3897-9447-4c52-9a6e-25b63219b012",
   "metadata": {},
   "outputs": [
    {
     "data": {
      "text/html": [
       "<div>\n",
       "<style scoped>\n",
       "    .dataframe tbody tr th:only-of-type {\n",
       "        vertical-align: middle;\n",
       "    }\n",
       "\n",
       "    .dataframe tbody tr th {\n",
       "        vertical-align: top;\n",
       "    }\n",
       "\n",
       "    .dataframe thead th {\n",
       "        text-align: right;\n",
       "    }\n",
       "</style>\n",
       "<table border=\"1\" class=\"dataframe\">\n",
       "  <thead>\n",
       "    <tr style=\"text-align: right;\">\n",
       "      <th></th>\n",
       "      <th>title</th>\n",
       "      <th>category</th>\n",
       "      <th>language</th>\n",
       "    </tr>\n",
       "  </thead>\n",
       "  <tbody>\n",
       "    <tr>\n",
       "      <th>2719</th>\n",
       "      <td>iag manager group strategy network financial planning</td>\n",
       "      <td>Finance</td>\n",
       "      <td>en</td>\n",
       "    </tr>\n",
       "    <tr>\n",
       "      <th>781</th>\n",
       "      <td>accountant leasing greene ny</td>\n",
       "      <td>Accounting</td>\n",
       "      <td>en</td>\n",
       "    </tr>\n",
       "    <tr>\n",
       "      <th>5908</th>\n",
       "      <td>atemtherapeut pd abwechslungsreiche</td>\n",
       "      <td>Medical</td>\n",
       "      <td>de</td>\n",
       "    </tr>\n",
       "    <tr>\n",
       "      <th>4995</th>\n",
       "      <td>ingegnere software associato orlando fl con nulla osta di sicurezza</td>\n",
       "      <td>IT</td>\n",
       "      <td>it</td>\n",
       "    </tr>\n",
       "    <tr>\n",
       "      <th>4387</th>\n",
       "      <td>help desk supporto tecnico elettrico</td>\n",
       "      <td>IT</td>\n",
       "      <td>it</td>\n",
       "    </tr>\n",
       "  </tbody>\n",
       "</table>\n",
       "</div>"
      ],
      "text/plain": [
       "                                                                    title  \\\n",
       "2719                iag manager group strategy network financial planning   \n",
       "781                                          accountant leasing greene ny   \n",
       "5908                                  atemtherapeut pd abwechslungsreiche   \n",
       "4995  ingegnere software associato orlando fl con nulla osta di sicurezza   \n",
       "4387                                 help desk supporto tecnico elettrico   \n",
       "\n",
       "        category language  \n",
       "2719     Finance       en  \n",
       "781   Accounting       en  \n",
       "5908     Medical       de  \n",
       "4995          IT       it  \n",
       "4387          IT       it  "
      ]
     },
     "execution_count": 7,
     "metadata": {},
     "output_type": "execute_result"
    }
   ],
   "source": [
    "df.sample(5)"
   ]
  },
  {
   "cell_type": "code",
   "execution_count": 8,
   "id": "3ab50f8c-a4d5-496a-8386-d62e69e89ab1",
   "metadata": {},
   "outputs": [],
   "source": [
    "# drop null values\n",
    "df = df.drop(df[df[\"title\"].isna()].index)"
   ]
  },
  {
   "cell_type": "code",
   "execution_count": 9,
   "id": "5ec924a9-5a6b-4bbf-85eb-b9b83470fcbb",
   "metadata": {},
   "outputs": [
    {
     "data": {
      "text/plain": [
       "6000"
      ]
     },
     "execution_count": 9,
     "metadata": {},
     "output_type": "execute_result"
    }
   ],
   "source": [
    "len(df)"
   ]
  },
  {
   "cell_type": "code",
   "execution_count": 10,
   "id": "4ded4944-dbd4-4932-bab5-08ed88a75db2",
   "metadata": {},
   "outputs": [],
   "source": [
    "N_CATEGORIES = len(df.category.unique())"
   ]
  },
  {
   "cell_type": "markdown",
   "id": "a97f791c-fc4e-4194-b072-940c1a599b59",
   "metadata": {},
   "source": [
    "## Modeling"
   ]
  },
  {
   "cell_type": "markdown",
   "id": "716108cf-63bc-4d76-a880-f05ef582bf15",
   "metadata": {},
   "source": [
    "In order to create the embeddings of the titles, we use an encoder that has high speed and good accuracy on capturing the context of a sentence/title: [Multilingual Sentence Encoder](https://tfhub.dev/google/universal-sentence-encoder-multilingual/3), downloadable from tensorflow hub.\n",
    "The steps that we followed for creating and training our model are:\n",
    "\n",
    " 1. Split data in train/test to evaluate performances and fine-tune the hyperparameters\n",
    " 2. Create the model architecture, that receives the titles strings as input, and produces the predicted category:\n",
    "\t - The structure is composed by:\n",
    "         - input layer for reading titles strings\n",
    "         - pre-processing layer for cleaning the input (patterns to remove, html, normalization)\n",
    "         - dense layers + dropout in order to avoid overfitting\n",
    "         - softmax layer for the output\n",
    "\t - Optimizer: *adam*\n",
    "\t - Loss: SparseCategorical Cross Entropy\n",
    "3. Training\n",
    "4. Evaluation of performances on test data"
   ]
  },
  {
   "cell_type": "code",
   "execution_count": 11,
   "id": "3fcffc7f-5743-4855-adbb-3c4519c6d0de",
   "metadata": {},
   "outputs": [],
   "source": [
    "import tensorflow as tf\n",
    "import tensorflow_hub as hub\n",
    "import tensorflow_text"
   ]
  },
  {
   "cell_type": "code",
   "execution_count": 12,
   "id": "da29ca23-0963-4415-a40a-8faa556c2329",
   "metadata": {},
   "outputs": [],
   "source": [
    "label_col = \"category\""
   ]
  },
  {
   "cell_type": "code",
   "execution_count": 13,
   "id": "fb3e3965-0440-4506-b286-f7ea0d09bffb",
   "metadata": {},
   "outputs": [],
   "source": [
    "le = preprocessing.LabelEncoder()\n",
    "le.fit(df[label_col].values)\n",
    "df[\"label\"] = le.transform(df[label_col])"
   ]
  },
  {
   "cell_type": "code",
   "execution_count": 14,
   "id": "974bec78-98ea-4733-ac8c-59f895999f6f",
   "metadata": {},
   "outputs": [
    {
     "data": {
      "text/html": [
       "<div>\n",
       "<style scoped>\n",
       "    .dataframe tbody tr th:only-of-type {\n",
       "        vertical-align: middle;\n",
       "    }\n",
       "\n",
       "    .dataframe tbody tr th {\n",
       "        vertical-align: top;\n",
       "    }\n",
       "\n",
       "    .dataframe thead th {\n",
       "        text-align: right;\n",
       "    }\n",
       "</style>\n",
       "<table border=\"1\" class=\"dataframe\">\n",
       "  <thead>\n",
       "    <tr style=\"text-align: right;\">\n",
       "      <th></th>\n",
       "      <th>title</th>\n",
       "      <th>category</th>\n",
       "      <th>language</th>\n",
       "      <th>label</th>\n",
       "    </tr>\n",
       "  </thead>\n",
       "  <tbody>\n",
       "    <tr>\n",
       "      <th>2472</th>\n",
       "      <td>cio tesouraria agregacao plataforma de gestao programas associado</td>\n",
       "      <td>Finance</td>\n",
       "      <td>pt</td>\n",
       "      <td>2</td>\n",
       "    </tr>\n",
       "    <tr>\n",
       "      <th>32</th>\n",
       "      <td>auditor lima</td>\n",
       "      <td>Accounting</td>\n",
       "      <td>en</td>\n",
       "      <td>0</td>\n",
       "    </tr>\n",
       "    <tr>\n",
       "      <th>3663</th>\n",
       "      <td>chef daytime flexible</td>\n",
       "      <td>Food</td>\n",
       "      <td>en</td>\n",
       "      <td>3</td>\n",
       "    </tr>\n",
       "    <tr>\n",
       "      <th>1686</th>\n",
       "      <td>emprego de professor fisica aberdeen</td>\n",
       "      <td>Education</td>\n",
       "      <td>pt</td>\n",
       "      <td>1</td>\n",
       "    </tr>\n",
       "    <tr>\n",
       "      <th>2002</th>\n",
       "      <td>team administrator investment</td>\n",
       "      <td>Finance</td>\n",
       "      <td>en</td>\n",
       "      <td>2</td>\n",
       "    </tr>\n",
       "  </tbody>\n",
       "</table>\n",
       "</div>"
      ],
      "text/plain": [
       "                                                                  title  \\\n",
       "2472  cio tesouraria agregacao plataforma de gestao programas associado   \n",
       "32                                                         auditor lima   \n",
       "3663                                              chef daytime flexible   \n",
       "1686                               emprego de professor fisica aberdeen   \n",
       "2002                                      team administrator investment   \n",
       "\n",
       "        category language  label  \n",
       "2472     Finance       pt      2  \n",
       "32    Accounting       en      0  \n",
       "3663        Food       en      3  \n",
       "1686   Education       pt      1  \n",
       "2002     Finance       en      2  "
      ]
     },
     "execution_count": 14,
     "metadata": {},
     "output_type": "execute_result"
    }
   ],
   "source": [
    "df.sample(5)"
   ]
  },
  {
   "cell_type": "code",
   "execution_count": 15,
   "id": "f2c088ce-95cc-4aa2-89e5-59747293a262",
   "metadata": {},
   "outputs": [],
   "source": [
    "batch_size = 100\n",
    "title_column = \"title\""
   ]
  },
  {
   "cell_type": "markdown",
   "id": "0a8c8be4-0e81-4327-9757-3031c5d96778",
   "metadata": {},
   "source": [
    "### Load model from TF Hub"
   ]
  },
  {
   "cell_type": "code",
   "execution_count": 16,
   "id": "02606ec7-6275-4e9d-9a28-2f31d49fe4d6",
   "metadata": {},
   "outputs": [
    {
     "name": "stdout",
     "output_type": "stream",
     "text": [
      "Metal device set to: Apple M1\n"
     ]
    },
    {
     "name": "stderr",
     "output_type": "stream",
     "text": [
      "2022-05-02 14:14:10.201346: I tensorflow/core/common_runtime/pluggable_device/pluggable_device_factory.cc:305] Could not identify NUMA node of platform GPU ID 0, defaulting to 0. Your kernel may not have been built with NUMA support.\n",
      "2022-05-02 14:14:10.201431: I tensorflow/core/common_runtime/pluggable_device/pluggable_device_factory.cc:271] Created TensorFlow device (/job:localhost/replica:0/task:0/device:GPU:0 with 0 MB memory) -> physical PluggableDevice (device: 0, name: METAL, pci bus id: <undefined>)\n",
      "2022-05-02 14:14:12.308500: W tensorflow/core/platform/profile_utils/cpu_utils.cc:128] Failed to get CPU frequency: 0 Hz\n",
      "2022-05-02 14:14:12.309043: I tensorflow/core/grappler/optimizers/custom_graph_optimizer_registry.cc:113] Plugin optimizer for device_type GPU is enabled.\n"
     ]
    }
   ],
   "source": [
    "encoder_url = \"https://tfhub.dev/google/universal-sentence-encoder-multilingual/3\"\n",
    "sentence_encoder = hub.load(encoder_url)"
   ]
  },
  {
   "cell_type": "code",
   "execution_count": 17,
   "id": "e2405a6c-ad75-4a2e-868e-e9ca529fcd16",
   "metadata": {},
   "outputs": [],
   "source": [
    "X = df[title_column].values\n",
    "y = df[\"label\"].values"
   ]
  },
  {
   "cell_type": "markdown",
   "id": "21fd5859-a1d2-4be6-a465-a41a8a27b456",
   "metadata": {},
   "source": [
    "### Split dataset in train and test"
   ]
  },
  {
   "cell_type": "code",
   "execution_count": 18,
   "id": "2cc84233-9d6b-4952-9c0b-68dc74621ce8",
   "metadata": {},
   "outputs": [],
   "source": [
    "X_train, X_val, y_train, y_val = train_test_split(\n",
    "    X, y, test_size=0.1, stratify=y, random_state=42, shuffle=True\n",
    ")"
   ]
  },
  {
   "cell_type": "code",
   "execution_count": 19,
   "id": "56c67323-a916-4ed2-95f6-ae478724cb3c",
   "metadata": {},
   "outputs": [
    {
     "data": {
      "text/plain": [
       "((5400,), (600,), (5400,), (600,))"
      ]
     },
     "execution_count": 19,
     "metadata": {},
     "output_type": "execute_result"
    }
   ],
   "source": [
    "X_train.shape, X_val.shape, y_train.shape, y_val.shape"
   ]
  },
  {
   "cell_type": "code",
   "execution_count": 20,
   "id": "40d9bdd8-c181-428d-a33f-f434d78f4253",
   "metadata": {},
   "outputs": [],
   "source": [
    "class_names = le.classes_\n",
    "labels_size = len(le.classes_)\n",
    "batch_size = 64"
   ]
  },
  {
   "cell_type": "markdown",
   "id": "8b392443-178f-4aef-8ede-5f6b7cb6a239",
   "metadata": {},
   "source": [
    "### Load custom stopwords and patterns to be removed from titles, used in the pre-processing function defined below"
   ]
  },
  {
   "cell_type": "code",
   "execution_count": 21,
   "id": "aed50641-547d-4d0b-a478-885715f8d1db",
   "metadata": {},
   "outputs": [],
   "source": [
    "with open(os.path.join(data_path, \"custom_stopwords.txt\")) as f:\n",
    "    custom_stopwords = [line.rstrip() for line in f.readlines()]\n",
    "\n",
    "with open(os.path.join(data_path, \"to_replace.txt\")) as f:\n",
    "    patterns_to_remove = [line.rstrip() for line in f.readlines()]"
   ]
  },
  {
   "cell_type": "code",
   "execution_count": 22,
   "id": "802450a6-dff2-4d48-95e1-e4bd20dbe389",
   "metadata": {},
   "outputs": [],
   "source": [
    "@tf.keras.utils.register_keras_serializable()\n",
    "def preprocess_text(input_data):\n",
    "    cleaned = tf.strings.lower(input_data)\n",
    "    cleaned = tf.strings.regex_replace(cleaned, r\"\\xa0\", \" \", replace_global=True)\n",
    "    cleaned = tf.strings.regex_replace(cleaned, r\"\\&amp\", \" \", replace_global=True)\n",
    "    cleaned = tf.strings.regex_replace(cleaned, r\"<.*?>\", \" \", replace_global=True)\n",
    "    cleaned = tf.strings.regex_replace(cleaned, r\"\\(.+?\\)\", \" \", replace_global=True)\n",
    "    cleaned = tf.strings.regex_replace(\n",
    "        cleaned,\n",
    "        r\"\\b(\" + r\"|\".join(patterns_to_remove) + r\")\\b\\s*\",\n",
    "        \" \",\n",
    "        replace_global=True,\n",
    "    )\n",
    "    cleaned = tf.strings.regex_replace(\n",
    "        cleaned,\n",
    "        r\"\\b(\" + r\"|\".join(custom_stopwords) + r\")\\b\\s*\",\n",
    "        \" \",\n",
    "        replace_global=True,\n",
    "    )\n",
    "    cleaned = tf.strings.regex_replace(\n",
    "        cleaned, r\"[!\\\"#$%&\\'()*+,-.–\\/:;<=>?@[\\\\\\]\\^_`{|}~]\", \" \", replace_global=True\n",
    "    )\n",
    "    cleaned = tf.strings.regex_replace(cleaned, r\"\\b\\d+\\b\", \" \", replace_global=True)\n",
    "    cleaned = tf.strings.regex_replace(cleaned, r\"\\s+\", \" \", replace_global=True)\n",
    "    return tf.strings.strip(cleaned)"
   ]
  },
  {
   "cell_type": "markdown",
   "id": "daa28e94-1ddf-4bd3-853b-a560140d6274",
   "metadata": {},
   "source": [
    "### Build the model architecture\n",
    "\n",
    "Here we are selecting sample parameters, adjust them to your needs"
   ]
  },
  {
   "cell_type": "code",
   "execution_count": 23,
   "id": "bcbe7598-aa0d-41a6-ab90-3dea7ca860e1",
   "metadata": {},
   "outputs": [
    {
     "name": "stderr",
     "output_type": "stream",
     "text": [
      "2022-05-02 14:14:15.060944: I tensorflow/core/grappler/optimizers/custom_graph_optimizer_registry.cc:113] Plugin optimizer for device_type GPU is enabled.\n"
     ]
    }
   ],
   "source": [
    "model = tf.keras.Sequential(\n",
    "    [\n",
    "        # Input layer with job title\n",
    "        tf.keras.Input(shape=(), dtype=\"string\", name=\"input\"),\n",
    "        # Pre-processing layer with custom pre-processing function\n",
    "        tf.keras.layers.Lambda(lambda title: preprocess_text(title), name=\"preprocess\"),\n",
    "        # Sentence embedding layer with the link to the encoder model\n",
    "        hub.KerasLayer(encoder_url, trainable=False),\n",
    "        # Classifier layers\n",
    "        # tf.keras.layers.Dense(256, activation=\"relu\", name=\"dense_1\"),\n",
    "        # tf.keras.layers.Dropout(0.1, name=\"dropout_1\"),\n",
    "        # tf.keras.layers.Dense(128, activation=\"relu\", name=\"dense_2\"),\n",
    "        # tf.keras.layers.Dropout(0.1, name=\"dropout_2\"),\n",
    "        tf.keras.layers.Dense(64, activation=\"relu\", name=\"dense_3\"),\n",
    "        tf.keras.layers.Dropout(0.5, name=\"dropout_3\"),\n",
    "        # Softmax output layer (n classes = N_CATEGORIES)\n",
    "        tf.keras.layers.Dense(N_CATEGORIES, activation=\"softmax\", name=\"output\"),\n",
    "    ]\n",
    ")"
   ]
  },
  {
   "cell_type": "code",
   "execution_count": 24,
   "id": "5da3f6e4-dbfb-4670-8141-b565604717a9",
   "metadata": {},
   "outputs": [],
   "source": [
    "model.compile(\n",
    "    optimizer=\"adam\",\n",
    "    loss=tf.keras.losses.SparseCategoricalCrossentropy(),\n",
    "    metrics=[tf.keras.metrics.SparseCategoricalAccuracy()],\n",
    ")"
   ]
  },
  {
   "cell_type": "code",
   "execution_count": 25,
   "id": "57e80289-a1c6-42cf-8772-a676e7fb955f",
   "metadata": {},
   "outputs": [
    {
     "name": "stdout",
     "output_type": "stream",
     "text": [
      "Model: \"sequential\"\n",
      "_________________________________________________________________\n",
      " Layer (type)                Output Shape              Param #   \n",
      "=================================================================\n",
      " preprocess (Lambda)         (None,)                   0         \n",
      "                                                                 \n",
      " keras_layer (KerasLayer)    (None, 512)               68927232  \n",
      "                                                                 \n",
      " dense_3 (Dense)             (None, 64)                32832     \n",
      "                                                                 \n",
      " dropout_3 (Dropout)         (None, 64)                0         \n",
      "                                                                 \n",
      " output (Dense)              (None, 6)                 390       \n",
      "                                                                 \n",
      "=================================================================\n",
      "Total params: 68,960,454\n",
      "Trainable params: 33,222\n",
      "Non-trainable params: 68,927,232\n",
      "_________________________________________________________________\n"
     ]
    }
   ],
   "source": [
    "model.summary()"
   ]
  },
  {
   "cell_type": "code",
   "execution_count": 26,
   "id": "98f94144-a56d-4710-a64d-a6db336ef0ca",
   "metadata": {},
   "outputs": [
    {
     "data": {
      "image/png": "[encoded data removed]",
      "text/plain": [
       "<IPython.core.display.Image object>"
      ]
     },
     "execution_count": 26,
     "metadata": {},
     "output_type": "execute_result"
    }
   ],
   "source": [
    "tf.keras.utils.plot_model(model, to_file=\"model.png\", show_shapes=True)"
   ]
  },
  {
   "cell_type": "markdown",
   "id": "20a801ac-da65-4bd7-a5f4-f9a20b96867c",
   "metadata": {},
   "source": [
    "### Train the model"
   ]
  },
  {
   "cell_type": "code",
   "execution_count": 27,
   "id": "cbe0bcff-735d-4174-a98d-4fc0ff0b7b47",
   "metadata": {},
   "outputs": [],
   "source": [
    "epochs = 5"
   ]
  },
  {
   "cell_type": "code",
   "execution_count": 28,
   "id": "3ac17dac-5841-47bc-9ca8-a2275c9ee35f",
   "metadata": {},
   "outputs": [
    {
     "name": "stdout",
     "output_type": "stream",
     "text": [
      "Epoch 1/5\n"
     ]
    },
    {
     "name": "stderr",
     "output_type": "stream",
     "text": [
      "2022-05-02 14:14:17.668512: I tensorflow/core/grappler/optimizers/custom_graph_optimizer_registry.cc:113] Plugin optimizer for device_type GPU is enabled.\n"
     ]
    },
    {
     "name": "stdout",
     "output_type": "stream",
     "text": [
      "85/85 [==============================] - ETA: 0s - loss: 1.3504 - sparse_categorical_accuracy: 0.6707"
     ]
    },
    {
     "name": "stderr",
     "output_type": "stream",
     "text": [
      "2022-05-02 14:14:26.154950: I tensorflow/core/grappler/optimizers/custom_graph_optimizer_registry.cc:113] Plugin optimizer for device_type GPU is enabled.\n"
     ]
    },
    {
     "name": "stdout",
     "output_type": "stream",
     "text": [
      "85/85 [==============================] - 13s 119ms/step - loss: 1.3504 - sparse_categorical_accuracy: 0.6707 - val_loss: 0.8434 - val_sparse_categorical_accuracy: 0.8450\n",
      "Epoch 2/5\n",
      "85/85 [==============================] - 10s 117ms/step - loss: 0.7107 - sparse_categorical_accuracy: 0.8131 - val_loss: 0.5266 - val_sparse_categorical_accuracy: 0.8617\n",
      "Epoch 3/5\n",
      "85/85 [==============================] - 10s 112ms/step - loss: 0.5351 - sparse_categorical_accuracy: 0.8357 - val_loss: 0.4489 - val_sparse_categorical_accuracy: 0.8633\n",
      "Epoch 4/5\n",
      "85/85 [==============================] - 11s 129ms/step - loss: 0.4806 - sparse_categorical_accuracy: 0.8513 - val_loss: 0.4172 - val_sparse_categorical_accuracy: 0.8700\n",
      "Epoch 5/5\n",
      "85/85 [==============================] - 11s 125ms/step - loss: 0.4337 - sparse_categorical_accuracy: 0.8633 - val_loss: 0.4015 - val_sparse_categorical_accuracy: 0.8717\n"
     ]
    }
   ],
   "source": [
    "history = model.fit(\n",
    "    X_train,\n",
    "    y_train,\n",
    "    epochs=epochs,\n",
    "    validation_data=(X_val, y_val),\n",
    "    callbacks=[\n",
    "        tf.keras.callbacks.EarlyStopping(\n",
    "            monitor=\"val_loss\", mode=\"auto\", patience=3, verbose=1\n",
    "        ),\n",
    "    ],\n",
    "    batch_size=batch_size,\n",
    "    verbose=1,\n",
    ")"
   ]
  },
  {
   "cell_type": "markdown",
   "id": "1f499a5a-03bc-4a5d-b1e3-36f56c685b60",
   "metadata": {},
   "source": [
    "### Plot training curves"
   ]
  },
  {
   "cell_type": "code",
   "execution_count": 29,
   "id": "6c51f917-96c2-43ad-b6b1-925abd0cea6c",
   "metadata": {},
   "outputs": [
    {
     "data": {
      "image/png": "[encoded data removed]",
      "text/plain": [
       "<Figure size 1080x720 with 2 Axes>"
      ]
     },
     "metadata": {
      "needs_background": "light"
     },
     "output_type": "display_data"
    }
   ],
   "source": [
    "fig = plt.figure(figsize=(15, 10))\n",
    "\n",
    "epochs = np.arange(1, len(history.history[\"loss\"]) + 1, 1)\n",
    "\n",
    "plt.subplot(2, 1, 1)\n",
    "plt.plot(epochs, history.history[\"loss\"], label=\"train\")\n",
    "plt.plot(epochs, history.history[\"val_loss\"], label=\"val\")\n",
    "plt.title(\"loss\")\n",
    "plt.xlabel(\"epochs\")\n",
    "plt.ylabel(\"\")\n",
    "plt.legend()\n",
    "\n",
    "plt.subplot(2, 1, 2)\n",
    "plt.plot(epochs, history.history[\"sparse_categorical_accuracy\"], label=\"train\")\n",
    "plt.plot(epochs, history.history[\"val_sparse_categorical_accuracy\"], label=\"val\")\n",
    "plt.title(\"accuracy\")\n",
    "plt.xlabel(\"epochs\")\n",
    "plt.ylabel(\"\")\n",
    "plt.legend(loc=\"upper left\")\n",
    "\n",
    "fig.subplots_adjust(hspace=0.5)\n",
    "fig.savefig(\"training_history.png\", dpi=300)\n",
    "plt.show()"
   ]
  },
  {
   "cell_type": "markdown",
   "id": "6a865527-3b66-4cc8-b231-b17dc22a173c",
   "metadata": {},
   "source": [
    "### Sample evaluation"
   ]
  },
  {
   "cell_type": "code",
   "execution_count": 30,
   "id": "bf36e9a1-2494-40b8-94cf-aefbf7140b22",
   "metadata": {},
   "outputs": [],
   "source": [
    "n = 50\n",
    "index_evaluation = np.random.choice(X_val.shape[0], n, replace=False)"
   ]
  },
  {
   "cell_type": "code",
   "execution_count": 31,
   "id": "09c22bc8-e53d-4ad0-ac14-2a1327383041",
   "metadata": {},
   "outputs": [
    {
     "name": "stdout",
     "output_type": "stream",
     "text": [
      "2/2 - 1s - loss: 0.3223 - sparse_categorical_accuracy: 0.9400 - 677ms/epoch - 339ms/step\n",
      "End to end model on evaluation dataset, accuracy: 94.00%\n"
     ]
    }
   ],
   "source": [
    "loss, acc = model.evaluate(X_val[index_evaluation], y_val[index_evaluation], verbose=2)\n",
    "print(\"End to end model on evaluation dataset, accuracy: {:5.2f}%\".format(100 * acc))"
   ]
  },
  {
   "cell_type": "code",
   "execution_count": 32,
   "id": "19ba3ba2-c11d-4263-ac7f-533027fc30e4",
   "metadata": {},
   "outputs": [],
   "source": [
    "test_sentences = [\"software engineer\", \"data scientist\", \"chef\"]"
   ]
  },
  {
   "cell_type": "code",
   "execution_count": 33,
   "id": "8eca04b8-ca9a-472d-8d00-35566c4b6b1a",
   "metadata": {},
   "outputs": [
    {
     "name": "stderr",
     "output_type": "stream",
     "text": [
      "2022-05-02 14:15:10.776743: I tensorflow/core/grappler/optimizers/custom_graph_optimizer_registry.cc:113] Plugin optimizer for device_type GPU is enabled.\n"
     ]
    }
   ],
   "source": [
    "preds = model.predict(test_sentences)\n",
    "labels = class_names[np.argmax(preds, axis=1)]\n",
    "probs = np.amax(preds, axis=1)"
   ]
  },
  {
   "cell_type": "code",
   "execution_count": 34,
   "id": "92fcea6a-2ee2-4391-9bce-6523128f9d5c",
   "metadata": {},
   "outputs": [
    {
     "name": "stdout",
     "output_type": "stream",
     "text": [
      "software engineer 0.9838141 IT\n",
      "data scientist 0.86910343 IT\n",
      "chef 0.99870837 Food\n"
     ]
    }
   ],
   "source": [
    "for test_sentence, prob, label in zip(test_sentences, probs, labels):\n",
    "    print(test_sentence, prob, label)"
   ]
  },
  {
   "cell_type": "markdown",
   "id": "9b1d8439-8510-4d8e-84fa-404185e08726",
   "metadata": {},
   "source": [
    "### Save the model\n",
    "\n",
    "Now that we have the final model, we can save it on disk and reload it when we need to perform further analysis or make predictions.\n"
   ]
  },
  {
   "cell_type": "code",
   "execution_count": 35,
   "id": "7ab82e5a-2fbb-460f-a8e5-be3f5928997a",
   "metadata": {},
   "outputs": [],
   "source": [
    "model_file_name = \"sample_model\""
   ]
  },
  {
   "cell_type": "code",
   "execution_count": 36,
   "id": "d38e79fc-7d73-4d33-aadb-118dc1d7a238",
   "metadata": {},
   "outputs": [
    {
     "name": "stderr",
     "output_type": "stream",
     "text": [
      "2022-05-02 14:15:13.160207: W tensorflow/python/util/util.cc:368] Sets are not currently considered sequences, but this may change in the future, so consider avoiding using them.\n",
      "2022-05-02 14:15:18.711562: I tensorflow/core/grappler/optimizers/custom_graph_optimizer_registry.cc:113] Plugin optimizer for device_type GPU is enabled.\n"
     ]
    },
    {
     "name": "stdout",
     "output_type": "stream",
     "text": [
      "INFO:tensorflow:Assets written to: /Users/silvio/Documents/classico/data/sample_model/assets\n"
     ]
    },
    {
     "name": "stderr",
     "output_type": "stream",
     "text": [
      "INFO:tensorflow:Assets written to: /Users/silvio/Documents/classico/data/sample_model/assets\n"
     ]
    }
   ],
   "source": [
    "tf.saved_model.save(\n",
    "    model,\n",
    "    os.path.join(data_path, model_file_name),\n",
    ")"
   ]
  },
  {
   "cell_type": "markdown",
   "id": "9c7e6480-aca4-45a6-9fa8-ad90e3030700",
   "metadata": {},
   "source": [
    "## Load model from disk"
   ]
  },
  {
   "cell_type": "code",
   "execution_count": 37,
   "id": "b4ad1619-1b7d-4d30-9901-28df940a237f",
   "metadata": {},
   "outputs": [
    {
     "name": "stderr",
     "output_type": "stream",
     "text": [
      "2022-05-02 14:15:29.944776: I tensorflow/core/grappler/optimizers/custom_graph_optimizer_registry.cc:113] Plugin optimizer for device_type GPU is enabled.\n"
     ]
    }
   ],
   "source": [
    "# Recreate the exact same model, including its weights and the optimizer\n",
    "model = tf.saved_model.load(os.path.join(data_path, model_file_name))"
   ]
  },
  {
   "cell_type": "code",
   "execution_count": 38,
   "id": "4825fedd-f8e3-43f3-9d8f-a963f816b348",
   "metadata": {},
   "outputs": [],
   "source": [
    "test_sentences = [\"software engineer\", \"data scientist\", \"chef\"]"
   ]
  },
  {
   "cell_type": "code",
   "execution_count": 39,
   "id": "81b4a3ec-b6fd-425a-8ae7-b21a74d2d63b",
   "metadata": {},
   "outputs": [
    {
     "name": "stderr",
     "output_type": "stream",
     "text": [
      "2022-05-02 14:15:30.158287: I tensorflow/core/grappler/optimizers/custom_graph_optimizer_registry.cc:113] Plugin optimizer for device_type GPU is enabled.\n"
     ]
    }
   ],
   "source": [
    "preds = model(tf.constant(test_sentences, dtype=tf.string))\n",
    "labels = class_names[np.argmax(preds, axis=1)]\n",
    "probs = np.amax(preds, axis=1)"
   ]
  },
  {
   "cell_type": "code",
   "execution_count": 40,
   "id": "3383e729-2f57-403f-951b-fa4b4a5a0cd6",
   "metadata": {},
   "outputs": [
    {
     "name": "stdout",
     "output_type": "stream",
     "text": [
      "software engineer 0.9838141 IT\n",
      "data scientist 0.86910343 IT\n",
      "chef 0.99870837 Food\n"
     ]
    }
   ],
   "source": [
    "for test_sentence, prob, label in zip(test_sentences, probs, labels):\n",
    "    print(test_sentence, prob, label)"
   ]
  },
  {
   "cell_type": "markdown",
   "id": "d57992c6-4613-44bb-80e0-d02960a72709",
   "metadata": {},
   "source": [
    "## Evaluation\n",
    "\n",
    "In order to understand if the model is good, the best way is to test its performances on datasets that it has never seen. For this reason, we have created different datasets, each for a specific language, where there are mixed titles in terms of data cleanliness and category.\n",
    "\n",
    "We have a model trained and capable of predicting titles for these languages: Arabic, Chinese-simplified, Chinese-traditional, English, French, German, Italian, Japanese, Korean, Dutch, Polish, Portuguese, Spanish, Thai, Turkish and Russian.\n",
    " \n",
    "At `data/sample_evaluation.csv` there is a sample of our multi-language evaluation dataset to test the model"
   ]
  },
  {
   "cell_type": "markdown",
   "id": "c0673fe5-d3ab-4290-8582-899575eb08a5",
   "metadata": {},
   "source": [
    "#### Evaluating datasets with top-n accuracy\n",
    "\n",
    "https://www.quora.com/How-do-I-understand-Top-N-accuracy-in-machine-learning-in-a-simple-way"
   ]
  },
  {
   "cell_type": "code",
   "execution_count": 41,
   "id": "37ee4864-7238-4f32-8acd-a7503227c77d",
   "metadata": {},
   "outputs": [],
   "source": [
    "def top_n_accuracy(titles, categories, class_names, model, n=3):\n",
    "    acc = 0\n",
    "    preds = model(titles).numpy()\n",
    "    top_n_idxs = np.argpartition(preds, kth=n, axis=1)[:, -n:]\n",
    "    preds = np.take_along_axis(preds, top_n_idxs, axis=-1)\n",
    "    top_n = np.take_along_axis(top_n_idxs, np.argsort(-preds), axis=-1)\n",
    "    top_n_labels = class_names[top_n]\n",
    "    for title, category, top_labels in zip(titles, categories, top_n_labels):\n",
    "        if category in top_labels:\n",
    "            acc += 1\n",
    "    return int(round(acc / len(titles), 2) * 100)"
   ]
  },
  {
   "cell_type": "code",
   "execution_count": 42,
   "id": "f8d0a6da-bd92-4dbd-be89-3db198d6135e",
   "metadata": {},
   "outputs": [],
   "source": [
    "langs = LANGS"
   ]
  },
  {
   "cell_type": "code",
   "execution_count": 43,
   "id": "9fa74b9d-a656-4fd2-b33c-54ab2031cda3",
   "metadata": {},
   "outputs": [],
   "source": [
    "eval_map = {lang: {} for lang in langs}"
   ]
  },
  {
   "cell_type": "code",
   "execution_count": 44,
   "id": "5004caf3-d0b1-4f48-9feb-61d768779f36",
   "metadata": {},
   "outputs": [],
   "source": [
    "eval_df = pd.read_csv(os.path.join(data_path, EVAL_FILE_NAME))"
   ]
  },
  {
   "cell_type": "code",
   "execution_count": 45,
   "id": "813130cf-540a-4a94-b92b-08a6f7608386",
   "metadata": {},
   "outputs": [
    {
     "data": {
      "text/plain": [
       "array(['Accounting', 'Education', 'Finance', 'Food', 'IT', 'Medical'],\n",
       "      dtype=object)"
      ]
     },
     "execution_count": 45,
     "metadata": {},
     "output_type": "execute_result"
    }
   ],
   "source": [
    "eval_df.category.unique()"
   ]
  },
  {
   "cell_type": "code",
   "execution_count": 46,
   "id": "9223a98b-cc53-4269-ae43-2d952168e89b",
   "metadata": {},
   "outputs": [
    {
     "name": "stderr",
     "output_type": "stream",
     "text": [
      "2022-05-02 14:15:31.066639: I tensorflow/core/grappler/optimizers/custom_graph_optimizer_registry.cc:113] Plugin optimizer for device_type GPU is enabled.\n"
     ]
    },
    {
     "name": "stdout",
     "output_type": "stream",
     "text": [
      "de 1 31\n"
     ]
    },
    {
     "name": "stderr",
     "output_type": "stream",
     "text": [
      "2022-05-02 14:15:31.953794: I tensorflow/core/grappler/optimizers/custom_graph_optimizer_registry.cc:113] Plugin optimizer for device_type GPU is enabled.\n"
     ]
    },
    {
     "name": "stdout",
     "output_type": "stream",
     "text": [
      "pt 1 30\n"
     ]
    },
    {
     "name": "stderr",
     "output_type": "stream",
     "text": [
      "2022-05-02 14:15:32.872613: I tensorflow/core/grappler/optimizers/custom_graph_optimizer_registry.cc:113] Plugin optimizer for device_type GPU is enabled.\n"
     ]
    },
    {
     "name": "stdout",
     "output_type": "stream",
     "text": [
      "en 1 33\n",
      "it 1 40\n",
      "de 3 100\n",
      "pt 3 100\n",
      "en 3 100\n",
      "it 3 100\n",
      "de 5 100\n",
      "pt 5 100\n",
      "en 5 100\n",
      "it 5 100\n"
     ]
    }
   ],
   "source": [
    "eval_df = pd.read_csv(os.path.join(data_path, EVAL_FILE_NAME))\n",
    "for n in [1, 3, 5]:\n",
    "    for lang in langs:\n",
    "        temp_eval_df = eval_df[eval_df[\"language\"] == lang].copy()\n",
    "        eval_map[lang][f\"accuracy@{n}\"] = top_n_accuracy(\n",
    "            temp_eval_df[\"title\"].values,\n",
    "            temp_eval_df[\"category\"].values,\n",
    "            class_names,\n",
    "            model,\n",
    "            n=n,\n",
    "        )\n",
    "        print(lang, n, eval_map[lang][f\"accuracy@{n}\"])"
   ]
  },
  {
   "cell_type": "markdown",
   "id": "be3a5b0e-bf83-490c-8f22-feea552b7182",
   "metadata": {},
   "source": [
    "### Create evaluation recap dataframe and save it to a csv"
   ]
  },
  {
   "cell_type": "code",
   "execution_count": 47,
   "id": "2248e71a-83f7-4794-9dc2-a4a9467f9f15",
   "metadata": {},
   "outputs": [],
   "source": [
    "complete_acc_df = pd.DataFrame(eval_map).T"
   ]
  },
  {
   "cell_type": "code",
   "execution_count": 48,
   "id": "c5d70ea7-e24d-42c6-a581-b49e23a1f94b",
   "metadata": {},
   "outputs": [],
   "source": [
    "complete_acc_df[\"lang\"] = complete_acc_df.index"
   ]
  },
  {
   "cell_type": "code",
   "execution_count": 49,
   "id": "7db60f55-aafa-4993-b35d-cb7a7603b7ac",
   "metadata": {},
   "outputs": [
    {
     "data": {
      "text/html": [
       "<div>\n",
       "<style scoped>\n",
       "    .dataframe tbody tr th:only-of-type {\n",
       "        vertical-align: middle;\n",
       "    }\n",
       "\n",
       "    .dataframe tbody tr th {\n",
       "        vertical-align: top;\n",
       "    }\n",
       "\n",
       "    .dataframe thead th {\n",
       "        text-align: right;\n",
       "    }\n",
       "</style>\n",
       "<table border=\"1\" class=\"dataframe\">\n",
       "  <thead>\n",
       "    <tr style=\"text-align: right;\">\n",
       "      <th></th>\n",
       "      <th>accuracy@1</th>\n",
       "      <th>accuracy@3</th>\n",
       "      <th>accuracy@5</th>\n",
       "      <th>lang</th>\n",
       "    </tr>\n",
       "  </thead>\n",
       "  <tbody>\n",
       "    <tr>\n",
       "      <th>de</th>\n",
       "      <td>31</td>\n",
       "      <td>100</td>\n",
       "      <td>100</td>\n",
       "      <td>de</td>\n",
       "    </tr>\n",
       "    <tr>\n",
       "      <th>pt</th>\n",
       "      <td>30</td>\n",
       "      <td>100</td>\n",
       "      <td>100</td>\n",
       "      <td>pt</td>\n",
       "    </tr>\n",
       "    <tr>\n",
       "      <th>en</th>\n",
       "      <td>33</td>\n",
       "      <td>100</td>\n",
       "      <td>100</td>\n",
       "      <td>en</td>\n",
       "    </tr>\n",
       "    <tr>\n",
       "      <th>it</th>\n",
       "      <td>40</td>\n",
       "      <td>100</td>\n",
       "      <td>100</td>\n",
       "      <td>it</td>\n",
       "    </tr>\n",
       "  </tbody>\n",
       "</table>\n",
       "</div>"
      ],
      "text/plain": [
       "    accuracy@1  accuracy@3  accuracy@5 lang\n",
       "de          31         100         100   de\n",
       "pt          30         100         100   pt\n",
       "en          33         100         100   en\n",
       "it          40         100         100   it"
      ]
     },
     "execution_count": 49,
     "metadata": {},
     "output_type": "execute_result"
    }
   ],
   "source": [
    "complete_acc_df"
   ]
  },
  {
   "cell_type": "code",
   "execution_count": 50,
   "id": "d3bcbe3c-6cc9-4b52-9307-b48cf2741242",
   "metadata": {},
   "outputs": [],
   "source": [
    "complete_acc_df.to_csv(os.path.join(data_path, \"sample_eval_map_top_n_accuracy.csv\"))"
   ]
  }
 ],
 "metadata": {
  "environment": {
   "kernel": "conda-root-py",
   "name": "tf2-gpu.2-7.m87",
   "type": "gcloud",
   "uri": "gcr.io/deeplearning-platform-release/tf2-gpu.2-7:m87"
  },
  "kernelspec": {
   "display_name": "ml",
   "language": "python",
   "name": "ml"
  },
  "language_info": {
   "codemirror_mode": {
    "name": "ipython",
    "version": 3
   },
   "file_extension": ".py",
   "mimetype": "text/x-python",
   "name": "python",
   "nbconvert_exporter": "python",
   "pygments_lexer": "ipython3",
   "version": "3.9.12"
  }
 },
 "nbformat": 4,
 "nbformat_minor": 5
}
